{
 "cells": [
  {
   "cell_type": "code",
   "execution_count": 21,
   "id": "2580627a",
   "metadata": {},
   "outputs": [
    {
     "name": "stdout",
     "output_type": "stream",
     "text": [
      "200\n"
     ]
    }
   ],
   "source": [
    "import requests\n",
    "\n",
    "endpoint = \"https://api.lyrics.ovh/v1/titas/homem primata\"\n",
    "\n",
    "response = requests.get(endpoint)\n",
    "print(response.status_code)"
   ]
  },
  {
   "cell_type": "code",
   "execution_count": 22,
   "id": "83a2f9a3",
   "metadata": {},
   "outputs": [
    {
     "name": "stdout",
     "output_type": "stream",
     "text": [
      "Desde os primordios\n",
      "Até hoje em dia\n",
      "O homem ainda faz\n",
      "O que o macaco fazia\n",
      "Eu não trabalhava, eu não sabia\n",
      "Que o homem criava e também destruia\n",
      "\n",
      "\n",
      "\n",
      "Homem primata\n",
      "\n",
      "Capitalismo selvagem\n",
      "\n",
      "Ôô ô x2\n",
      "\n",
      "\n",
      "\n",
      "Eu aprendi\n",
      "\n",
      "A vida é um jogo\n",
      "\n",
      "Cada um por si\n",
      "\n",
      "E deus contra todos\n",
      "\n",
      "Você vai morrer\n",
      "\n",
      "E não vai pro céu\n",
      "\n",
      "É bom aprender\n",
      "\n",
      "A vida é cruel\n",
      "\n",
      "\n",
      "\n",
      "Homem primata\n",
      "\n",
      "Capitalismo selvagem\n",
      "\n",
      "Ôô ô x2\n",
      "\n",
      "\n",
      "\n",
      "Eu me perdi na selva de pedra\n",
      "\n",
      "Eu me perdi, eu me perdi\n",
      "\n",
      "\n",
      "\n",
      "I'm a cave man\n",
      "\n",
      "A young man\n",
      "\n",
      "I fight with my hands\n",
      "\n",
      "(with my hands)\n",
      "\n",
      "I am a jungle man\n",
      "\n",
      "A monkey man\n",
      "\n",
      "\n",
      "\n",
      "Concrete jungle!\n",
      "\n",
      "Concrete jungle!\n"
     ]
    }
   ],
   "source": [
    "print (response.json() ['lyrics'])"
   ]
  }
 ],
 "metadata": {
  "kernelspec": {
   "display_name": "api-py3.12 (3.12.1)",
   "language": "python",
   "name": "python3"
  },
  "language_info": {
   "codemirror_mode": {
    "name": "ipython",
    "version": 3
   },
   "file_extension": ".py",
   "mimetype": "text/x-python",
   "name": "python",
   "nbconvert_exporter": "python",
   "pygments_lexer": "ipython3",
   "version": "3.12.1"
  }
 },
 "nbformat": 4,
 "nbformat_minor": 5
}
